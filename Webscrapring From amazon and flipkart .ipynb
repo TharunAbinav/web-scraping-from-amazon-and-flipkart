{
 "cells": [
  {
   "cell_type": "code",
   "execution_count": 1,
   "id": "e3dad244",
   "metadata": {},
   "outputs": [],
   "source": [
    "import matplotlib.pyplot as plt\n",
    "import urllib.request\n",
    "import urllib.error\n",
    "import re"
   ]
  },
  {
   "cell_type": "code",
   "execution_count": null,
   "id": "0b706353",
   "metadata": {},
   "outputs": [],
   "source": [
    "keyword = input('Enter your product: ')\n",
    "encoded_keyword = urllib.parse.quote(keyword)\n",
    "urlA = f'https://www.amazon.in/s?k={encoded_keyword}'\n",
    "urlF = f'https://www.flipkart.com/search?q={encoded_keyword}'\n",
    "\n",
    "price=[]\n",
    "headers = {\n",
    "    'User-Agent': 'Mozilla/5.0 (Windows NT 10.0; Win64; x64) AppleWebKit/537.36 (KHTML, like Gecko) Chrome/91.0.4472.124 Safari/537.36',\n",
    "    'Accept': 'text/html,application/xhtml+xml,application/xml;q=0.9,image/webp,*/*;q=0.8',\n",
    "    'Accept-Language': 'en-US,en;q=0.5',\n",
    "    'DNT': '1',\n",
    "    'Connection': 'keep-alive',\n",
    "    'Upgrade-Insecure-Requests': '1'\n",
    "}\n",
    "\n",
    "def amazon(urlA):\n",
    "    url=urlA\n",
    "    req = urllib.request.Request(url, headers=headers)\n",
    "    with urllib.request.urlopen(req) as response:\n",
    "        html = response.read().decode('utf-8')\n",
    "    res = re.findall(r'<span class=\"a-price-whole\">([^<]*)', html)\n",
    "    a=res[0].replace(\",\",\"\")\n",
    "    price.append(int(a))\n",
    "\n",
    "def flipkart(urlF):\n",
    "    url=urlF\n",
    "    req = urllib.request.Request(url, headers=headers)\n",
    "    with urllib.request.urlopen(req) as response:\n",
    "        html = response.read().decode('utf-8')\n",
    "    res = re.findall(r'<div class=\"Nx9bqj _4b5DiR\">₹([^<]*)', html)#<div class=\"Nx9bqj _4b5DiR\">(.*)<(?!<)\n",
    "    a=res[0].replace(\",\",\"\")\n",
    "    price.append(int(a))\n",
    "\n",
    "flipkart(urlF)\n",
    "amazon(urlA)"
   ]
  },
  {
   "cell_type": "code",
   "execution_count": null,
   "id": "f1689b4a",
   "metadata": {},
   "outputs": [],
   "source": [
    "comp=['Flipkart','Amazon']\n",
    "plt.bar(comp, price)\n",
    "\n",
    "plt.xlabel('Company')\n",
    "plt.ylabel('price')\n",
    "plt.title('Bar Graph of Amazon vs Flipkart')\n",
    "\n",
    "plt.show()\n",
    "\n",
    "print()\n",
    "print(\"The difference between Flipkart and Amazon is ₹\",abs(price[0]-price[1]))\n",
    "print(\"Flipkart = ₹\",price[0])\n",
    "print(\"Amazon = ₹\",price[1])"
   ]
  }
 ],
 "metadata": {
  "kernelspec": {
   "display_name": "Python 3 (ipykernel)",
   "language": "python",
   "name": "python3"
  },
  "language_info": {
   "codemirror_mode": {
    "name": "ipython",
    "version": 3
   },
   "file_extension": ".py",
   "mimetype": "text/x-python",
   "name": "python",
   "nbconvert_exporter": "python",
   "pygments_lexer": "ipython3",
   "version": "3.11.5"
  }
 },
 "nbformat": 4,
 "nbformat_minor": 5
}
